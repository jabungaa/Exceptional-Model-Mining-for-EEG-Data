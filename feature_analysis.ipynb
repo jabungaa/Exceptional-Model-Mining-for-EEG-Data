{
 "cells": [
  {
   "cell_type": "code",
   "id": "initial_id",
   "metadata": {
    "collapsed": true,
    "ExecuteTime": {
     "end_time": "2025-10-20T15:20:32.355147Z",
     "start_time": "2025-10-20T15:20:30.413317Z"
    }
   },
   "source": [
    "import numpy as np\n",
    "import pandas as pd\n",
    "from sklearn.preprocessing import StandardScaler\n",
    "from sklearn.linear_model import LogisticRegression\n",
    "from sklearn.ensemble import RandomForestClassifier\n",
    "from sklearn.model_selection import cross_val_score\n",
    "from sklearn.inspection import permutation_importance\n",
    "\n",
    "np.random.seed(2205)"
   ],
   "outputs": [],
   "execution_count": 5
  },
  {
   "metadata": {
    "ExecuteTime": {
     "end_time": "2025-10-20T15:20:33.220671Z",
     "start_time": "2025-10-20T15:20:33.206802Z"
    }
   },
   "cell_type": "code",
   "source": [
    "df = pd.read_csv(\"sub_info_and_features.csv\")\n",
    "\n",
    "df[\"Gender_int\"] = (df[\"Gender\"] == \"F\").astype(int)\n",
    "\n",
    "eeg_features = [col for col in df.columns if col not in [\"participant_id\", \"Gender\", \"Age\", \"Group\", \"MMSE\"]]\n",
    "eeg_df = df[eeg_features]"
   ],
   "id": "f0adc972afa7f8c7",
   "outputs": [],
   "execution_count": 6
  },
  {
   "metadata": {
    "ExecuteTime": {
     "end_time": "2025-10-20T15:20:34.553172Z",
     "start_time": "2025-10-20T15:20:34.544965Z"
    }
   },
   "cell_type": "code",
   "source": [
    "X = eeg_df\n",
    "y = df[\"Group\"]\n",
    "\n",
    "scaler = StandardScaler()\n",
    "X_scaled = scaler.fit_transform(X)"
   ],
   "id": "1d0a67f950aab057",
   "outputs": [],
   "execution_count": 7
  },
  {
   "metadata": {},
   "cell_type": "markdown",
   "source": "Logistic Regression with L1",
   "id": "964b93ac2f8b8aac"
  },
  {
   "metadata": {
    "ExecuteTime": {
     "end_time": "2025-10-20T15:21:02.886691Z",
     "start_time": "2025-10-20T15:21:02.772978Z"
    }
   },
   "cell_type": "code",
   "source": [
    "log_reg = LogisticRegression(penalty=\"l1\", solver=\"saga\", C=1.0, max_iter=1000)\n",
    "log_reg.fit(X_scaled, y)\n",
    "\n",
    "if len(np.unique(y)) == 2:\n",
    "    coef = np.abs(log_reg.coef_[0])\n",
    "else:\n",
    "    coef = np.abs(log_reg.coef_).mean(axis=0)\n",
    "\n",
    "log_importance = pd.DataFrame({\n",
    "    \"feature\": eeg_df.columns,\n",
    "    \"importance\": coef\n",
    "}).sort_values(\"importance\", ascending=False)\n",
    "\n",
    "print(\"Top 10 features (linear regression):\")\n",
    "print(log_importance.head(10))"
   ],
   "id": "f14ded5d5746e810",
   "outputs": [
    {
     "name": "stdout",
     "output_type": "stream",
     "text": [
      "Top 10 features (linear regression):\n",
      "                         feature  importance\n",
      "6                    Delta/Alpha    0.618517\n",
      "17        frontal_sample_entropy    0.307637\n",
      "47                 occipital_DFA    0.270291\n",
      "20      frontal_spectral_entropy    0.254451\n",
      "23     frontal_hjorth_complexity    0.231131\n",
      "38       parietal_sample_entropy    0.182373\n",
      "35  temporal_permutation_entropy    0.174003\n",
      "24        central_sample_entropy    0.167704\n",
      "46             occipital_higuchi    0.167257\n",
      "0                          Delta    0.157616\n"
     ]
    },
    {
     "name": "stderr",
     "output_type": "stream",
     "text": [
      "C:\\Users\\falco\\miniconda3\\envs\\dm\\Lib\\site-packages\\sklearn\\linear_model\\_sag.py:348: ConvergenceWarning: The max_iter was reached which means the coef_ did not converge\n",
      "  warnings.warn(\n"
     ]
    }
   ],
   "execution_count": 9
  },
  {
   "metadata": {},
   "cell_type": "markdown",
   "source": "Random Forest",
   "id": "af2af05b8547df4e"
  },
  {
   "metadata": {
    "ExecuteTime": {
     "end_time": "2025-10-20T15:23:47.152468Z",
     "start_time": "2025-10-20T15:23:46.991002Z"
    }
   },
   "cell_type": "code",
   "source": [
    "rf = RandomForestClassifier(n_estimators=100, random_state=2205)\n",
    "rf.fit(X, y)\n",
    "\n",
    "rf_importance = pd.DataFrame({\n",
    "    \"feature\": eeg_df.columns,\n",
    "    \"importance\": rf.feature_importances_\n",
    "}).sort_values(\"importance\", ascending=False)\n",
    "\n",
    "print(\"Top 10 features (random forest):\")\n",
    "print(rf_importance.head(10))"
   ],
   "id": "1852ce1b1cf08b07",
   "outputs": [
    {
     "name": "stdout",
     "output_type": "stream",
     "text": [
      "Top 10 features (random forest):\n",
      "                        feature  importance\n",
      "20     frontal_spectral_entropy    0.035912\n",
      "6                   Delta/Alpha    0.035480\n",
      "45     occipital_sample_entropy    0.034862\n",
      "47                occipital_DFA    0.032777\n",
      "51  occipital_hjorth_complexity    0.031765\n",
      "17       frontal_sample_entropy    0.031684\n",
      "50    occipital_hjorth_mobility    0.027763\n",
      "10                      cD2_RMS    0.026797\n",
      "4                   Theta/Alpha    0.026377\n",
      "0                         Delta    0.025916\n"
     ]
    }
   ],
   "execution_count": 11
  }
 ],
 "metadata": {
  "kernelspec": {
   "display_name": "Python 3",
   "language": "python",
   "name": "python3"
  },
  "language_info": {
   "codemirror_mode": {
    "name": "ipython",
    "version": 2
   },
   "file_extension": ".py",
   "mimetype": "text/x-python",
   "name": "python",
   "nbconvert_exporter": "python",
   "pygments_lexer": "ipython2",
   "version": "2.7.6"
  }
 },
 "nbformat": 4,
 "nbformat_minor": 5
}
